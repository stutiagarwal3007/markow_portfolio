{
 "cells": [
  {
   "cell_type": "code",
   "execution_count": 5,
   "id": "e864e90f-74f6-45f6-a73f-629334ae23ac",
   "metadata": {},
   "outputs": [
    {
     "name": "stdout",
     "output_type": "stream",
     "text": [
      "Requirement already satisfied: yfinance in c:\\users\\acer\\appdata\\local\\programs\\python\\python311\\lib\\site-packages (0.2.65)\n",
      "Requirement already satisfied: pandas in c:\\users\\acer\\appdata\\local\\programs\\python\\python311\\lib\\site-packages (2.3.1)\n",
      "Requirement already satisfied: matplotlib in c:\\users\\acer\\appdata\\local\\programs\\python\\python311\\lib\\site-packages (3.10.3)\n",
      "Requirement already satisfied: numpy in c:\\users\\acer\\appdata\\local\\programs\\python\\python311\\lib\\site-packages (2.3.0)\n",
      "Requirement already satisfied: streamlit in c:\\users\\acer\\appdata\\local\\programs\\python\\python311\\lib\\site-packages (1.49.1)\n",
      "Requirement already satisfied: requests>=2.31 in c:\\users\\acer\\appdata\\local\\programs\\python\\python311\\lib\\site-packages (from yfinance) (2.32.4)\n",
      "Requirement already satisfied: multitasking>=0.0.7 in c:\\users\\acer\\appdata\\local\\programs\\python\\python311\\lib\\site-packages (from yfinance) (0.0.12)\n",
      "Requirement already satisfied: platformdirs>=2.0.0 in c:\\users\\acer\\appdata\\roaming\\python\\python311\\site-packages (from yfinance) (4.4.0)\n",
      "Requirement already satisfied: pytz>=2022.5 in c:\\users\\acer\\appdata\\local\\programs\\python\\python311\\lib\\site-packages (from yfinance) (2025.2)\n",
      "Requirement already satisfied: frozendict>=2.3.4 in c:\\users\\acer\\appdata\\local\\programs\\python\\python311\\lib\\site-packages (from yfinance) (2.4.6)\n",
      "Requirement already satisfied: peewee>=3.16.2 in c:\\users\\acer\\appdata\\local\\programs\\python\\python311\\lib\\site-packages (from yfinance) (3.18.2)\n",
      "Requirement already satisfied: beautifulsoup4>=4.11.1 in c:\\users\\acer\\appdata\\local\\programs\\python\\python311\\lib\\site-packages (from yfinance) (4.13.5)\n",
      "Requirement already satisfied: curl_cffi>=0.7 in c:\\users\\acer\\appdata\\local\\programs\\python\\python311\\lib\\site-packages (from yfinance) (0.13.0)\n",
      "Requirement already satisfied: protobuf>=3.19.0 in c:\\users\\acer\\appdata\\local\\programs\\python\\python311\\lib\\site-packages (from yfinance) (6.31.1)\n",
      "Requirement already satisfied: websockets>=13.0 in c:\\users\\acer\\appdata\\local\\programs\\python\\python311\\lib\\site-packages (from yfinance) (15.0.1)\n",
      "Requirement already satisfied: python-dateutil>=2.8.2 in c:\\users\\acer\\appdata\\local\\programs\\python\\python311\\lib\\site-packages (from pandas) (2.9.0.post0)\n",
      "Requirement already satisfied: tzdata>=2022.7 in c:\\users\\acer\\appdata\\local\\programs\\python\\python311\\lib\\site-packages (from pandas) (2025.2)\n",
      "Requirement already satisfied: contourpy>=1.0.1 in c:\\users\\acer\\appdata\\local\\programs\\python\\python311\\lib\\site-packages (from matplotlib) (1.3.2)\n",
      "Requirement already satisfied: cycler>=0.10 in c:\\users\\acer\\appdata\\local\\programs\\python\\python311\\lib\\site-packages (from matplotlib) (0.12.1)\n",
      "Requirement already satisfied: fonttools>=4.22.0 in c:\\users\\acer\\appdata\\local\\programs\\python\\python311\\lib\\site-packages (from matplotlib) (4.59.0)\n",
      "Requirement already satisfied: kiwisolver>=1.3.1 in c:\\users\\acer\\appdata\\local\\programs\\python\\python311\\lib\\site-packages (from matplotlib) (1.4.8)\n",
      "Requirement already satisfied: packaging>=20.0 in c:\\users\\acer\\appdata\\local\\programs\\python\\python311\\lib\\site-packages (from matplotlib) (25.0)\n",
      "Requirement already satisfied: pillow>=8 in c:\\users\\acer\\appdata\\local\\programs\\python\\python311\\lib\\site-packages (from matplotlib) (11.2.1)\n",
      "Requirement already satisfied: pyparsing>=2.3.1 in c:\\users\\acer\\appdata\\local\\programs\\python\\python311\\lib\\site-packages (from matplotlib) (3.2.3)\n",
      "Requirement already satisfied: altair!=5.4.0,!=5.4.1,<6,>=4.0 in c:\\users\\acer\\appdata\\local\\programs\\python\\python311\\lib\\site-packages (from streamlit) (5.5.0)\n",
      "Requirement already satisfied: blinker<2,>=1.5.0 in c:\\users\\acer\\appdata\\local\\programs\\python\\python311\\lib\\site-packages (from streamlit) (1.9.0)\n",
      "Requirement already satisfied: cachetools<7,>=4.0 in c:\\users\\acer\\appdata\\local\\programs\\python\\python311\\lib\\site-packages (from streamlit) (6.2.0)\n",
      "Requirement already satisfied: click<9,>=7.0 in c:\\users\\acer\\appdata\\local\\programs\\python\\python311\\lib\\site-packages (from streamlit) (8.2.1)\n",
      "Requirement already satisfied: pyarrow>=7.0 in c:\\users\\acer\\appdata\\local\\programs\\python\\python311\\lib\\site-packages (from streamlit) (21.0.0)\n",
      "Requirement already satisfied: tenacity<10,>=8.1.0 in c:\\users\\acer\\appdata\\local\\programs\\python\\python311\\lib\\site-packages (from streamlit) (9.1.2)\n",
      "Requirement already satisfied: toml<2,>=0.10.1 in c:\\users\\acer\\appdata\\local\\programs\\python\\python311\\lib\\site-packages (from streamlit) (0.10.2)\n",
      "Requirement already satisfied: typing-extensions<5,>=4.4.0 in c:\\users\\acer\\appdata\\local\\programs\\python\\python311\\lib\\site-packages (from streamlit) (4.14.0)\n",
      "Requirement already satisfied: watchdog<7,>=2.1.5 in c:\\users\\acer\\appdata\\local\\programs\\python\\python311\\lib\\site-packages (from streamlit) (6.0.0)\n",
      "Requirement already satisfied: gitpython!=3.1.19,<4,>=3.0.7 in c:\\users\\acer\\appdata\\local\\programs\\python\\python311\\lib\\site-packages (from streamlit) (3.1.45)\n",
      "Requirement already satisfied: pydeck<1,>=0.8.0b4 in c:\\users\\acer\\appdata\\local\\programs\\python\\python311\\lib\\site-packages (from streamlit) (0.9.1)\n",
      "Requirement already satisfied: tornado!=6.5.0,<7,>=6.0.3 in c:\\users\\acer\\appdata\\local\\programs\\python\\python311\\lib\\site-packages (from streamlit) (6.5.2)\n",
      "Requirement already satisfied: jinja2 in c:\\users\\acer\\appdata\\local\\programs\\python\\python311\\lib\\site-packages (from altair!=5.4.0,!=5.4.1,<6,>=4.0->streamlit) (3.1.6)\n",
      "Requirement already satisfied: jsonschema>=3.0 in c:\\users\\acer\\appdata\\local\\programs\\python\\python311\\lib\\site-packages (from altair!=5.4.0,!=5.4.1,<6,>=4.0->streamlit) (4.25.1)\n",
      "Requirement already satisfied: narwhals>=1.14.2 in c:\\users\\acer\\appdata\\local\\programs\\python\\python311\\lib\\site-packages (from altair!=5.4.0,!=5.4.1,<6,>=4.0->streamlit) (2.3.0)\n",
      "Requirement already satisfied: colorama in c:\\users\\acer\\appdata\\local\\programs\\python\\python311\\lib\\site-packages (from click<9,>=7.0->streamlit) (0.4.6)\n",
      "Requirement already satisfied: gitdb<5,>=4.0.1 in c:\\users\\acer\\appdata\\local\\programs\\python\\python311\\lib\\site-packages (from gitpython!=3.1.19,<4,>=3.0.7->streamlit) (4.0.12)\n",
      "Requirement already satisfied: smmap<6,>=3.0.1 in c:\\users\\acer\\appdata\\local\\programs\\python\\python311\\lib\\site-packages (from gitdb<5,>=4.0.1->gitpython!=3.1.19,<4,>=3.0.7->streamlit) (5.0.2)\n",
      "Requirement already satisfied: charset_normalizer<4,>=2 in c:\\users\\acer\\appdata\\local\\programs\\python\\python311\\lib\\site-packages (from requests>=2.31->yfinance) (3.4.2)\n",
      "Requirement already satisfied: idna<4,>=2.5 in c:\\users\\acer\\appdata\\local\\programs\\python\\python311\\lib\\site-packages (from requests>=2.31->yfinance) (3.10)\n",
      "Requirement already satisfied: urllib3<3,>=1.21.1 in c:\\users\\acer\\appdata\\local\\programs\\python\\python311\\lib\\site-packages (from requests>=2.31->yfinance) (2.5.0)\n",
      "Requirement already satisfied: certifi>=2017.4.17 in c:\\users\\acer\\appdata\\local\\programs\\python\\python311\\lib\\site-packages (from requests>=2.31->yfinance) (2025.4.26)\n",
      "Requirement already satisfied: soupsieve>1.2 in c:\\users\\acer\\appdata\\local\\programs\\python\\python311\\lib\\site-packages (from beautifulsoup4>=4.11.1->yfinance) (2.8)\n",
      "Requirement already satisfied: cffi>=1.12.0 in c:\\users\\acer\\appdata\\local\\programs\\python\\python311\\lib\\site-packages (from curl_cffi>=0.7->yfinance) (1.17.1)\n",
      "Requirement already satisfied: pycparser in c:\\users\\acer\\appdata\\local\\programs\\python\\python311\\lib\\site-packages (from cffi>=1.12.0->curl_cffi>=0.7->yfinance) (2.22)\n",
      "Requirement already satisfied: MarkupSafe>=2.0 in c:\\users\\acer\\appdata\\local\\programs\\python\\python311\\lib\\site-packages (from jinja2->altair!=5.4.0,!=5.4.1,<6,>=4.0->streamlit) (3.0.2)\n",
      "Requirement already satisfied: attrs>=22.2.0 in c:\\users\\acer\\appdata\\local\\programs\\python\\python311\\lib\\site-packages (from jsonschema>=3.0->altair!=5.4.0,!=5.4.1,<6,>=4.0->streamlit) (25.3.0)\n",
      "Requirement already satisfied: jsonschema-specifications>=2023.03.6 in c:\\users\\acer\\appdata\\local\\programs\\python\\python311\\lib\\site-packages (from jsonschema>=3.0->altair!=5.4.0,!=5.4.1,<6,>=4.0->streamlit) (2025.4.1)\n",
      "Requirement already satisfied: referencing>=0.28.4 in c:\\users\\acer\\appdata\\local\\programs\\python\\python311\\lib\\site-packages (from jsonschema>=3.0->altair!=5.4.0,!=5.4.1,<6,>=4.0->streamlit) (0.36.2)\n",
      "Requirement already satisfied: rpds-py>=0.7.1 in c:\\users\\acer\\appdata\\local\\programs\\python\\python311\\lib\\site-packages (from jsonschema>=3.0->altair!=5.4.0,!=5.4.1,<6,>=4.0->streamlit) (0.27.1)\n",
      "Requirement already satisfied: six>=1.5 in c:\\users\\acer\\appdata\\local\\programs\\python\\python311\\lib\\site-packages (from python-dateutil>=2.8.2->pandas) (1.17.0)\n",
      "Requirement already satisfied: pandas_datareader in c:\\users\\acer\\appdata\\local\\programs\\python\\python311\\lib\\site-packages (0.10.0)\n",
      "Requirement already satisfied: lxml in c:\\users\\acer\\appdata\\local\\programs\\python\\python311\\lib\\site-packages (from pandas_datareader) (6.0.1)\n",
      "Requirement already satisfied: pandas>=0.23 in c:\\users\\acer\\appdata\\local\\programs\\python\\python311\\lib\\site-packages (from pandas_datareader) (2.3.1)\n",
      "Requirement already satisfied: requests>=2.19.0 in c:\\users\\acer\\appdata\\local\\programs\\python\\python311\\lib\\site-packages (from pandas_datareader) (2.32.4)\n",
      "Requirement already satisfied: numpy>=1.23.2 in c:\\users\\acer\\appdata\\local\\programs\\python\\python311\\lib\\site-packages (from pandas>=0.23->pandas_datareader) (2.3.0)\n",
      "Requirement already satisfied: python-dateutil>=2.8.2 in c:\\users\\acer\\appdata\\local\\programs\\python\\python311\\lib\\site-packages (from pandas>=0.23->pandas_datareader) (2.9.0.post0)\n",
      "Requirement already satisfied: pytz>=2020.1 in c:\\users\\acer\\appdata\\local\\programs\\python\\python311\\lib\\site-packages (from pandas>=0.23->pandas_datareader) (2025.2)\n",
      "Requirement already satisfied: tzdata>=2022.7 in c:\\users\\acer\\appdata\\local\\programs\\python\\python311\\lib\\site-packages (from pandas>=0.23->pandas_datareader) (2025.2)\n",
      "Requirement already satisfied: six>=1.5 in c:\\users\\acer\\appdata\\local\\programs\\python\\python311\\lib\\site-packages (from python-dateutil>=2.8.2->pandas>=0.23->pandas_datareader) (1.17.0)\n",
      "Requirement already satisfied: charset_normalizer<4,>=2 in c:\\users\\acer\\appdata\\local\\programs\\python\\python311\\lib\\site-packages (from requests>=2.19.0->pandas_datareader) (3.4.2)\n",
      "Requirement already satisfied: idna<4,>=2.5 in c:\\users\\acer\\appdata\\local\\programs\\python\\python311\\lib\\site-packages (from requests>=2.19.0->pandas_datareader) (3.10)\n",
      "Requirement already satisfied: urllib3<3,>=1.21.1 in c:\\users\\acer\\appdata\\local\\programs\\python\\python311\\lib\\site-packages (from requests>=2.19.0->pandas_datareader) (2.5.0)\n",
      "Requirement already satisfied: certifi>=2017.4.17 in c:\\users\\acer\\appdata\\local\\programs\\python\\python311\\lib\\site-packages (from requests>=2.19.0->pandas_datareader) (2025.4.26)\n"
     ]
    }
   ],
   "source": [
    "!pip install yfinance pandas matplotlib numpy streamlit\n",
    "!pip install pandas_datareader\n",
    "\n",
    "\n",
    "import numpy as np \n",
    "import pandas as pd \n",
    "import yfinance as yf\n",
    "import pandas as pd\n",
    "from pandas_datareader import data as wb\n",
    "import matplotlib.pyplot as plt\n",
    "%matplotlib inline\n"
   ]
  },
  {
   "cell_type": "code",
   "execution_count": 6,
   "id": "e4dee4ca-6faf-49b1-82b8-5bbb93319969",
   "metadata": {},
   "outputs": [
    {
     "name": "stderr",
     "output_type": "stream",
     "text": [
      "[*********************100%***********************]  2 of 2 completed"
     ]
    },
    {
     "name": "stdout",
     "output_type": "stream",
     "text": [
      "Ticker             PG        ^GSPC\n",
      "Date                              \n",
      "2018-01-02  73.854919  2695.810059\n",
      "2018-01-03  73.765320  2713.060059\n",
      "2018-01-04  74.286751  2723.989990\n",
      "2018-01-05  74.335625  2743.149902\n",
      "2018-01-08  74.726685  2747.709961\n"
     ]
    },
    {
     "name": "stderr",
     "output_type": "stream",
     "text": [
      "\n"
     ]
    }
   ],
   "source": [
    "assets = ['PG','^GSPC']\n",
    "pf_data = pd.DataFrame()\n",
    "\n",
    "pf_data = yf.download(assets, start=\"2018-01-01\", auto_adjust=True)\n",
    "adj_close = pf_data['Close']   # adjusted prices\n",
    "print(adj_close.head())\n"
   ]
  },
  {
   "cell_type": "code",
   "execution_count": 7,
   "id": "8d61d593-6ba6-4f5b-9856-5cba28da7dec",
   "metadata": {},
   "outputs": [
    {
     "data": {
      "text/html": [
       "<div>\n",
       "<style scoped>\n",
       "    .dataframe tbody tr th:only-of-type {\n",
       "        vertical-align: middle;\n",
       "    }\n",
       "\n",
       "    .dataframe tbody tr th {\n",
       "        vertical-align: top;\n",
       "    }\n",
       "\n",
       "    .dataframe thead tr th {\n",
       "        text-align: left;\n",
       "    }\n",
       "\n",
       "    .dataframe thead tr:last-of-type th {\n",
       "        text-align: right;\n",
       "    }\n",
       "</style>\n",
       "<table border=\"1\" class=\"dataframe\">\n",
       "  <thead>\n",
       "    <tr>\n",
       "      <th>Price</th>\n",
       "      <th colspan=\"2\" halign=\"left\">Close</th>\n",
       "      <th colspan=\"2\" halign=\"left\">High</th>\n",
       "      <th colspan=\"2\" halign=\"left\">Low</th>\n",
       "      <th colspan=\"2\" halign=\"left\">Open</th>\n",
       "      <th colspan=\"2\" halign=\"left\">Volume</th>\n",
       "    </tr>\n",
       "    <tr>\n",
       "      <th>Ticker</th>\n",
       "      <th>PG</th>\n",
       "      <th>^GSPC</th>\n",
       "      <th>PG</th>\n",
       "      <th>^GSPC</th>\n",
       "      <th>PG</th>\n",
       "      <th>^GSPC</th>\n",
       "      <th>PG</th>\n",
       "      <th>^GSPC</th>\n",
       "      <th>PG</th>\n",
       "      <th>^GSPC</th>\n",
       "    </tr>\n",
       "    <tr>\n",
       "      <th>Date</th>\n",
       "      <th></th>\n",
       "      <th></th>\n",
       "      <th></th>\n",
       "      <th></th>\n",
       "      <th></th>\n",
       "      <th></th>\n",
       "      <th></th>\n",
       "      <th></th>\n",
       "      <th></th>\n",
       "      <th></th>\n",
       "    </tr>\n",
       "  </thead>\n",
       "  <tbody>\n",
       "    <tr>\n",
       "      <th>2025-08-27</th>\n",
       "      <td>156.960007</td>\n",
       "      <td>6481.399902</td>\n",
       "      <td>157.130005</td>\n",
       "      <td>6487.060059</td>\n",
       "      <td>155.789993</td>\n",
       "      <td>6457.839844</td>\n",
       "      <td>156.149994</td>\n",
       "      <td>6462.259766</td>\n",
       "      <td>4551200</td>\n",
       "      <td>4143680000</td>\n",
       "    </tr>\n",
       "    <tr>\n",
       "      <th>2025-08-28</th>\n",
       "      <td>155.649994</td>\n",
       "      <td>6501.859863</td>\n",
       "      <td>157.009995</td>\n",
       "      <td>6508.229980</td>\n",
       "      <td>155.029999</td>\n",
       "      <td>6466.959961</td>\n",
       "      <td>157.000000</td>\n",
       "      <td>6483.839844</td>\n",
       "      <td>5857400</td>\n",
       "      <td>4283760000</td>\n",
       "    </tr>\n",
       "    <tr>\n",
       "      <th>2025-08-29</th>\n",
       "      <td>157.039993</td>\n",
       "      <td>6460.259766</td>\n",
       "      <td>157.559998</td>\n",
       "      <td>6491.759766</td>\n",
       "      <td>155.649994</td>\n",
       "      <td>6444.569824</td>\n",
       "      <td>156.089996</td>\n",
       "      <td>6489.279785</td>\n",
       "      <td>5318200</td>\n",
       "      <td>4234840000</td>\n",
       "    </tr>\n",
       "    <tr>\n",
       "      <th>2025-09-02</th>\n",
       "      <td>157.990005</td>\n",
       "      <td>6415.540039</td>\n",
       "      <td>158.860001</td>\n",
       "      <td>6416.540039</td>\n",
       "      <td>156.979996</td>\n",
       "      <td>6360.580078</td>\n",
       "      <td>157.360001</td>\n",
       "      <td>6401.509766</td>\n",
       "      <td>6425200</td>\n",
       "      <td>4784000000</td>\n",
       "    </tr>\n",
       "    <tr>\n",
       "      <th>2025-09-03</th>\n",
       "      <td>156.600006</td>\n",
       "      <td>6452.120117</td>\n",
       "      <td>158.634995</td>\n",
       "      <td>6453.600098</td>\n",
       "      <td>156.494995</td>\n",
       "      <td>6428.100098</td>\n",
       "      <td>157.649994</td>\n",
       "      <td>6445.819824</td>\n",
       "      <td>1221230</td>\n",
       "      <td>739016962</td>\n",
       "    </tr>\n",
       "  </tbody>\n",
       "</table>\n",
       "</div>"
      ],
      "text/plain": [
       "Price            Close                     High                      Low  \\\n",
       "Ticker              PG        ^GSPC          PG        ^GSPC          PG   \n",
       "Date                                                                       \n",
       "2025-08-27  156.960007  6481.399902  157.130005  6487.060059  155.789993   \n",
       "2025-08-28  155.649994  6501.859863  157.009995  6508.229980  155.029999   \n",
       "2025-08-29  157.039993  6460.259766  157.559998  6491.759766  155.649994   \n",
       "2025-09-02  157.990005  6415.540039  158.860001  6416.540039  156.979996   \n",
       "2025-09-03  156.600006  6452.120117  158.634995  6453.600098  156.494995   \n",
       "\n",
       "Price                          Open                Volume              \n",
       "Ticker            ^GSPC          PG        ^GSPC       PG       ^GSPC  \n",
       "Date                                                                   \n",
       "2025-08-27  6457.839844  156.149994  6462.259766  4551200  4143680000  \n",
       "2025-08-28  6466.959961  157.000000  6483.839844  5857400  4283760000  \n",
       "2025-08-29  6444.569824  156.089996  6489.279785  5318200  4234840000  \n",
       "2025-09-02  6360.580078  157.360001  6401.509766  6425200  4784000000  \n",
       "2025-09-03  6428.100098  157.649994  6445.819824  1221230   739016962  "
      ]
     },
     "execution_count": 7,
     "metadata": {},
     "output_type": "execute_result"
    }
   ],
   "source": [
    "pf_data.tail()"
   ]
  },
  {
   "cell_type": "code",
   "execution_count": 8,
   "id": "a016de08-7121-44dd-ad5a-1a7b3048a671",
   "metadata": {},
   "outputs": [
    {
     "name": "stderr",
     "output_type": "stream",
     "text": [
      "[*********************100%***********************]  2 of 2 completed\n"
     ]
    },
    {
     "data": {
      "image/png": "[encoded data removed]",
      "text/plain": [
       "<Figure size 1000x500 with 1 Axes>"
      ]
     },
     "metadata": {},
     "output_type": "display_data"
    }
   ],
   "source": [
    "assets = ['PG', '^GSPC']\n",
    "\n",
    "# Download data with adjusted prices\n",
    "pf_data = yf.download(assets, start=\"2018-01-01\", auto_adjust=True)['Close']\n",
    "normalized = pf_data / pf_data.iloc[0] * 100\n",
    "\n",
    "# Plot\n",
    "plt.figure(figsize=(10, 5))\n",
    "plt.plot(normalized.index, normalized['PG'], label='PG')\n",
    "plt.plot(normalized.index, normalized['^GSPC'], label='S&P 500 (^GSPC)')\n",
    "plt.title('PG vs S&P 500 (Normalized to 100)')\n",
    "plt.xlabel('Date')\n",
    "plt.ylabel('Normalized Price (Base = 100)')\n",
    "plt.legend()\n",
    "plt.grid(True)\n",
    "plt.show()"
   ]
  },
  {
   "cell_type": "code",
   "execution_count": 9,
   "id": "b98efab3-df3d-40c4-afe9-9df88206a3bb",
   "metadata": {},
   "outputs": [],
   "source": [
    "log_returns = np.log(pf_data / pf_data.shift(1))"
   ]
  },
  {
   "cell_type": "code",
   "execution_count": 10,
   "id": "55a068e5-b172-490d-8be7-9bcaf0c4818a",
   "metadata": {},
   "outputs": [
    {
     "data": {
      "text/plain": [
       "Ticker\n",
       "PG       0.097508\n",
       "^GSPC    0.113223\n",
       "dtype: float64"
      ]
     },
     "execution_count": 10,
     "metadata": {},
     "output_type": "execute_result"
    }
   ],
   "source": [
    " log_returns.mean()*250"
   ]
  },
  {
   "cell_type": "code",
   "execution_count": 11,
   "id": "1d2f4a23-844e-4bec-af96-f3969448308a",
   "metadata": {},
   "outputs": [
    {
     "data": {
      "text/html": [
       "<div>\n",
       "<style scoped>\n",
       "    .dataframe tbody tr th:only-of-type {\n",
       "        vertical-align: middle;\n",
       "    }\n",
       "\n",
       "    .dataframe tbody tr th {\n",
       "        vertical-align: top;\n",
       "    }\n",
       "\n",
       "    .dataframe thead th {\n",
       "        text-align: right;\n",
       "    }\n",
       "</style>\n",
       "<table border=\"1\" class=\"dataframe\">\n",
       "  <thead>\n",
       "    <tr style=\"text-align: right;\">\n",
       "      <th>Ticker</th>\n",
       "      <th>PG</th>\n",
       "      <th>^GSPC</th>\n",
       "    </tr>\n",
       "    <tr>\n",
       "      <th>Ticker</th>\n",
       "      <th></th>\n",
       "      <th></th>\n",
       "    </tr>\n",
       "  </thead>\n",
       "  <tbody>\n",
       "    <tr>\n",
       "      <th>PG</th>\n",
       "      <td>0.040101</td>\n",
       "      <td>0.019773</td>\n",
       "    </tr>\n",
       "    <tr>\n",
       "      <th>^GSPC</th>\n",
       "      <td>0.019773</td>\n",
       "      <td>0.039415</td>\n",
       "    </tr>\n",
       "  </tbody>\n",
       "</table>\n",
       "</div>"
      ],
      "text/plain": [
       "Ticker        PG     ^GSPC\n",
       "Ticker                    \n",
       "PG      0.040101  0.019773\n",
       "^GSPC   0.019773  0.039415"
      ]
     },
     "execution_count": 11,
     "metadata": {},
     "output_type": "execute_result"
    }
   ],
   "source": [
    "log_returns.cov() * 250"
   ]
  },
  {
   "cell_type": "code",
   "execution_count": 12,
   "id": "6657df0e-4ea7-4be2-ae4b-ff6b68b601e7",
   "metadata": {},
   "outputs": [
    {
     "data": {
      "text/html": [
       "<div>\n",
       "<style scoped>\n",
       "    .dataframe tbody tr th:only-of-type {\n",
       "        vertical-align: middle;\n",
       "    }\n",
       "\n",
       "    .dataframe tbody tr th {\n",
       "        vertical-align: top;\n",
       "    }\n",
       "\n",
       "    .dataframe thead th {\n",
       "        text-align: right;\n",
       "    }\n",
       "</style>\n",
       "<table border=\"1\" class=\"dataframe\">\n",
       "  <thead>\n",
       "    <tr style=\"text-align: right;\">\n",
       "      <th>Ticker</th>\n",
       "      <th>PG</th>\n",
       "      <th>^GSPC</th>\n",
       "    </tr>\n",
       "    <tr>\n",
       "      <th>Ticker</th>\n",
       "      <th></th>\n",
       "      <th></th>\n",
       "    </tr>\n",
       "  </thead>\n",
       "  <tbody>\n",
       "    <tr>\n",
       "      <th>PG</th>\n",
       "      <td>1.000000</td>\n",
       "      <td>0.497356</td>\n",
       "    </tr>\n",
       "    <tr>\n",
       "      <th>^GSPC</th>\n",
       "      <td>0.497356</td>\n",
       "      <td>1.000000</td>\n",
       "    </tr>\n",
       "  </tbody>\n",
       "</table>\n",
       "</div>"
      ],
      "text/plain": [
       "Ticker        PG     ^GSPC\n",
       "Ticker                    \n",
       "PG      1.000000  0.497356\n",
       "^GSPC   0.497356  1.000000"
      ]
     },
     "execution_count": 12,
     "metadata": {},
     "output_type": "execute_result"
    }
   ],
   "source": [
    "log_returns.corr()"
   ]
  },
  {
   "cell_type": "code",
   "execution_count": 13,
   "id": "2780e3f5-cf64-4196-9216-489df32aa883",
   "metadata": {},
   "outputs": [
    {
     "data": {
      "text/plain": [
       "2"
      ]
     },
     "execution_count": 13,
     "metadata": {},
     "output_type": "execute_result"
    }
   ],
   "source": [
    "num_assets = len(assets)\n",
    "num_assets"
   ]
  },
  {
   "cell_type": "code",
   "execution_count": 14,
   "id": "638fce26-8bd7-4439-979d-8a312f1438d0",
   "metadata": {},
   "outputs": [
    {
     "data": {
      "text/plain": [
       "array([0.97376824, 0.04499183])"
      ]
     },
     "execution_count": 14,
     "metadata": {},
     "output_type": "execute_result"
    }
   ],
   "source": [
    "arr = np.random.random(2)\n",
    "arr"
   ]
  },
  {
   "cell_type": "code",
   "execution_count": 15,
   "id": "ec6e497d-a25e-4bf5-ba76-f2eb6c9ca057",
   "metadata": {},
   "outputs": [
    {
     "data": {
      "text/plain": [
       "np.float64(1.0187600686213543)"
      ]
     },
     "execution_count": 15,
     "metadata": {},
     "output_type": "execute_result"
    }
   ],
   "source": [
    "arr[0] + arr[1]"
   ]
  },
  {
   "cell_type": "code",
   "execution_count": 16,
   "id": "2edcf6d0-9426-4db7-a836-8f564cc03984",
   "metadata": {},
   "outputs": [
    {
     "data": {
      "text/plain": [
       "array([0.26840015, 0.73159985])"
      ]
     },
     "execution_count": 16,
     "metadata": {},
     "output_type": "execute_result"
    }
   ],
   "source": [
    "weights = np.random.random(num_assets)\n",
    "weights /= np.sum(weights)\n",
    "weights"
   ]
  },
  {
   "cell_type": "code",
   "execution_count": 17,
   "id": "1085c21d-3f7d-4db2-bda9-66c8d31525fd",
   "metadata": {},
   "outputs": [
    {
     "data": {
      "text/plain": [
       "np.float64(1.0)"
      ]
     },
     "execution_count": 17,
     "metadata": {},
     "output_type": "execute_result"
    }
   ],
   "source": [
    "weights[0] + weights[1]"
   ]
  },
  {
   "cell_type": "code",
   "execution_count": 18,
   "id": "94ad0a21-8b4a-4d61-9af9-8b1fa8740413",
   "metadata": {},
   "outputs": [
    {
     "data": {
      "text/plain": [
       "np.float64(0.10900477831000367)"
      ]
     },
     "execution_count": 18,
     "metadata": {},
     "output_type": "execute_result"
    }
   ],
   "source": [
    "#expected portfolio return \n",
    "np.sum(weights * log_returns.mean())*250 \n"
   ]
  },
  {
   "cell_type": "code",
   "execution_count": 19,
   "id": "b5d986d3-a247-4024-a7ac-248edd524020",
   "metadata": {},
   "outputs": [
    {
     "data": {
      "text/plain": [
       "np.float64(0.03175044373721205)"
      ]
     },
     "execution_count": 19,
     "metadata": {},
     "output_type": "execute_result"
    }
   ],
   "source": [
    "#epvariance\n",
    "np.dot(weights.T, np.dot(log_returns.cov()*250,weights))"
   ]
  },
  {
   "cell_type": "code",
   "execution_count": 20,
   "id": "5439e95c-9b2d-4ac6-bf6f-f8ffb61211ed",
   "metadata": {},
   "outputs": [
    {
     "data": {
      "text/plain": [
       "np.float64(0.17818654196434716)"
      ]
     },
     "execution_count": 20,
     "metadata": {},
     "output_type": "execute_result"
    }
   ],
   "source": [
    "#epvolatility\n",
    "np.sqrt(np.dot(weights.T,np.dot(log_returns.cov()*250,weights)))"
   ]
  },
  {
   "cell_type": "code",
   "execution_count": 21,
   "id": "2be4cd85-fc60-4d35-80d9-5537de18122a",
   "metadata": {},
   "outputs": [
    {
     "data": {
      "text/plain": [
       "(array([0.05591762, 0.09972657, 0.13310205, 0.11397153, 0.11981973,\n",
       "        0.05473523, 0.0633286 , 0.11223741, 0.0220833 , 0.03730752,\n",
       "        0.08153253, 0.04346275, 0.07502952, 0.10877558, 0.13474556,\n",
       "        0.09278861, 0.14077754, 0.13755851, 0.12616719, 0.07909998,\n",
       "        0.09640399, 0.06083203, 0.14375575, 0.16092476, 0.16690681,\n",
       "        0.08299299, 0.01770121, 0.10840835, 0.16028202, 0.11688318,\n",
       "        0.07550042, 0.05728183, 0.06656813, 0.11442527, 0.08194579,\n",
       "        0.17902853, 0.11491207, 0.09365298, 0.14776866, 0.08336059,\n",
       "        0.14419454, 0.06383299, 0.1194385 , 0.06869487, 0.19106621,\n",
       "        0.16366207, 0.15704736, 0.12832929, 0.13810824, 0.07592092,\n",
       "        0.12686591, 0.05853125, 0.12900587, 0.08611099, 0.16265397,\n",
       "        0.09783717, 0.14078157, 0.06445448, 0.11567168, 0.02255469,\n",
       "        0.11928373, 0.03921842, 0.09739586, 0.10873936, 0.19401852,\n",
       "        0.05929236, 0.10686822, 0.15493306, 0.12751228, 0.1674852 ,\n",
       "        0.11611633, 0.09439246, 0.09692508, 0.02404902, 0.14712482,\n",
       "        0.13856508, 0.15956781, 0.07747814, 0.12074315, 0.12359696,\n",
       "        0.07362887, 0.09958519, 0.17809053, 0.0904423 , 0.04397122,\n",
       "        0.14880845, 0.09582246, 0.06699174, 0.08973596, 0.02365454,\n",
       "        0.18452664, 0.16976534, 0.0166979 , 0.11187834, 0.15779184,\n",
       "        0.15381281, 0.18344005, 0.06501151, 0.11736604, 0.18104839,\n",
       "        0.11265522, 0.14666745, 0.08935943, 0.05176686, 0.08128782,\n",
       "        0.15864249, 0.14456252, 0.09176889, 0.05073593, 0.14923383,\n",
       "        0.09939522, 0.10886789, 0.12408215, 0.11467861, 0.17898318,\n",
       "        0.09578767, 0.08931225, 0.16536676, 0.06859423, 0.07263193,\n",
       "        0.14713525, 0.05620208, 0.04891515, 0.09130975, 0.09346231,\n",
       "        0.09653685, 0.07670209, 0.06242791, 0.11758853, 0.03218201,\n",
       "        0.1348306 , 0.17312321, 0.09136176, 0.04186711, 0.0260669 ,\n",
       "        0.14797028, 0.13904165, 0.09998919, 0.0745692 , 0.02154399,\n",
       "        0.1261437 , 0.14175503, 0.07893581, 0.15704212, 0.05384732,\n",
       "        0.11740254, 0.1197147 , 0.10340825, 0.11070189, 0.03432567,\n",
       "        0.034964  , 0.16602539, 0.18530257, 0.17546332, 0.1522275 ,\n",
       "        0.1097529 , 0.17104326, 0.12839485, 0.09387931, 0.0816778 ,\n",
       "        0.12072938, 0.18353507, 0.10174628, 0.04245231, 0.18483056,\n",
       "        0.07971548, 0.08136949, 0.13009684, 0.07964358, 0.09084579,\n",
       "        0.08598749, 0.11863699, 0.12884182, 0.06111526, 0.12721513,\n",
       "        0.05658911, 0.12656433, 0.12953549, 0.10444358, 0.02613521,\n",
       "        0.12911544, 0.05045006, 0.13769698, 0.11787038, 0.14453954,\n",
       "        0.16522175, 0.09662933, 0.17470078, 0.14685368, 0.04565296,\n",
       "        0.15975478, 0.06172286, 0.08348557, 0.02483065, 0.08504712,\n",
       "        0.05909873, 0.03965901, 0.16985433, 0.11096814, 0.07630604,\n",
       "        0.12893415, 0.04353624, 0.04437583, 0.15971383, 0.11605228,\n",
       "        0.06758436, 0.10791865, 0.11925316, 0.1415086 , 0.0717716 ,\n",
       "        0.08466273, 0.13208189, 0.09162213, 0.13067   , 0.13138146,\n",
       "        0.06514833, 0.0730251 , 0.09308949, 0.08514149, 0.11187183,\n",
       "        0.15392778, 0.02781241, 0.11509052, 0.12325156, 0.11529522,\n",
       "        0.17668245, 0.19174211, 0.19515531, 0.15901399, 0.12451971,\n",
       "        0.1551689 , 0.09741604, 0.02300039, 0.07677753, 0.09569699,\n",
       "        0.15361659, 0.06615002, 0.06467754, 0.071195  , 0.19923499,\n",
       "        0.12213401, 0.11370363, 0.06418578, 0.10045899, 0.09426922,\n",
       "        0.13433482, 0.11660699, 0.17438299, 0.08734556, 0.19998196,\n",
       "        0.03920878, 0.13433914, 0.09149657, 0.17890924, 0.09369054,\n",
       "        0.08554899, 0.1170707 , 0.04620103, 0.11732411, 0.06797757,\n",
       "        0.04790329, 0.17128971, 0.14450575, 0.16443868, 0.09121206,\n",
       "        0.19347164, 0.06911983, 0.16533223, 0.14397877, 0.1227049 ,\n",
       "        0.04218113, 0.13641921, 0.18002504, 0.08877305, 0.10589695,\n",
       "        0.06231247, 0.02899891, 0.11974092, 0.08869471, 0.15216354,\n",
       "        0.07160253, 0.11125038, 0.1230193 , 0.15348885, 0.1622696 ,\n",
       "        0.10315312, 0.0832579 , 0.07822338, 0.1546385 , 0.04474815,\n",
       "        0.16124667, 0.08051461, 0.15343436, 0.10269684, 0.0389386 ,\n",
       "        0.07886294, 0.0639209 , 0.15225139, 0.0510084 , 0.11000969,\n",
       "        0.08430687, 0.09728825, 0.13136961, 0.14253396, 0.16351899,\n",
       "        0.09550974, 0.06212537, 0.08477163, 0.15013925, 0.10167887,\n",
       "        0.20585789, 0.05797326, 0.12043224, 0.11267875, 0.07743125,\n",
       "        0.1142175 , 0.00519466, 0.0531758 , 0.15483536, 0.0506796 ,\n",
       "        0.0653621 , 0.17484382, 0.12075562, 0.09100598, 0.04145557,\n",
       "        0.09749582, 0.03565078, 0.07728454, 0.1420852 , 0.12240924,\n",
       "        0.06998567, 0.06121264, 0.12084669, 0.17275548, 0.07137747,\n",
       "        0.0373015 , 0.13621484, 0.06679425, 0.07873211, 0.13197769,\n",
       "        0.08893564, 0.13268827, 0.15330412, 0.06568994, 0.10598752,\n",
       "        0.10772693, 0.11590382, 0.10850563, 0.10077   , 0.07862545,\n",
       "        0.05866798, 0.11935464, 0.07018779, 0.07621241, 0.14440446,\n",
       "        0.07693814, 0.1125402 , 0.13092871, 0.17965156, 0.08324111,\n",
       "        0.13491175, 0.20011682, 0.16132945, 0.05471708, 0.17008695,\n",
       "        0.09915048, 0.18974803, 0.02770567, 0.05807475, 0.12774873,\n",
       "        0.07707498, 0.00529096, 0.06845597, 0.05035171, 0.08591369,\n",
       "        0.04441448, 0.10641184, 0.05686792, 0.06955765, 0.16109061,\n",
       "        0.03515185, 0.04292457, 0.11797327, 0.16112584, 0.0734865 ,\n",
       "        0.05364943, 0.08035993, 0.17939122, 0.16692244, 0.18149121,\n",
       "        0.10047448, 0.13061149, 0.01798447, 0.11744499, 0.16544762,\n",
       "        0.10610482, 0.07066605, 0.16223349, 0.10086368, 0.14967219,\n",
       "        0.12821617, 0.08128041, 0.15415771, 0.10316215, 0.07135308,\n",
       "        0.06190325, 0.0909361 , 0.17058223, 0.10430115, 0.14952313,\n",
       "        0.11503703, 0.13249595, 0.10763281, 0.12703857, 0.07796629,\n",
       "        0.10018038, 0.06621457, 0.12230912, 0.12376053, 0.1287907 ,\n",
       "        0.11778454, 0.07167775, 0.04027283, 0.12913812, 0.13423141,\n",
       "        0.14144878, 0.147779  , 0.09410844, 0.12636046, 0.01687596,\n",
       "        0.14676403, 0.18055507, 0.06422941, 0.07912425, 0.02518511,\n",
       "        0.06772594, 0.12152466, 0.045465  , 0.19522546, 0.12257889,\n",
       "        0.05067148, 0.06423474, 0.12558328, 0.10306734, 0.06402826,\n",
       "        0.1422086 , 0.14682063, 0.09437174, 0.13189551, 0.14603384,\n",
       "        0.04325701, 0.14694333, 0.12826629, 0.08343211, 0.099334  ,\n",
       "        0.19233044, 0.09073262, 0.08740924, 0.09451765, 0.15449326,\n",
       "        0.06458185, 0.10887411, 0.06447549, 0.08880844, 0.13752103,\n",
       "        0.09471592, 0.10311567, 0.14214888, 0.07618777, 0.05717221,\n",
       "        0.10573679, 0.1358809 , 0.09392898, 0.09715374, 0.07700263,\n",
       "        0.08425099, 0.13071244, 0.12290911, 0.02499677, 0.12190524,\n",
       "        0.15685177, 0.15211553, 0.10676466, 0.04374863, 0.11042559,\n",
       "        0.03602584, 0.14310641, 0.14697575, 0.13939328, 0.04955727,\n",
       "        0.0609134 , 0.09934297, 0.07694466, 0.12749723, 0.06425728,\n",
       "        0.07866899, 0.05680007, 0.10778545, 0.03712803, 0.11243638,\n",
       "        0.06731879, 0.08808454, 0.10703451, 0.11449583, 0.10099663,\n",
       "        0.11661683, 0.09670987, 0.03289606, 0.10695285, 0.12009365,\n",
       "        0.17076137, 0.12134391, 0.16069995, 0.14267897, 0.14907854,\n",
       "        0.13325294, 0.10920735, 0.11987497, 0.07885124, 0.0991684 ,\n",
       "        0.17716333, 0.1736562 , 0.1322881 , 0.07159793, 0.0488443 ,\n",
       "        0.11335143, 0.11068385, 0.16456619, 0.12077323, 0.11482816,\n",
       "        0.10451478, 0.05438473, 0.07916363, 0.16308877, 0.09196017,\n",
       "        0.18195903, 0.13297183, 0.08140888, 0.13398141, 0.09125276,\n",
       "        0.15162773, 0.16566826, 0.09893409, 0.14148614, 0.11150148,\n",
       "        0.15272062, 0.16884405, 0.10053383, 0.1037343 , 0.06339592,\n",
       "        0.03785561, 0.08353273, 0.06921324, 0.1586804 , 0.11104191,\n",
       "        0.0371771 , 0.07237791, 0.20052493, 0.10820722, 0.02335857,\n",
       "        0.05685143, 0.13336308, 0.10178882, 0.06166293, 0.12919538,\n",
       "        0.0673516 , 0.0731765 , 0.0756083 , 0.08323192, 0.15120136,\n",
       "        0.05865254, 0.04233665, 0.08821046, 0.13801689, 0.09041707,\n",
       "        0.08201137, 0.03058012, 0.07581898, 0.10302611, 0.13086707,\n",
       "        0.07832732, 0.11395841, 0.08100979, 0.17904777, 0.11836841,\n",
       "        0.05628678, 0.08235291, 0.1378916 , 0.0762644 , 0.07340052,\n",
       "        0.12695172, 0.17451597, 0.1645144 , 0.11557565, 0.06595026,\n",
       "        0.11829637, 0.08901925, 0.12028963, 0.15755152, 0.11036372,\n",
       "        0.07879448, 0.15887743, 0.12122032, 0.18523881, 0.00677275,\n",
       "        0.14231525, 0.0314867 , 0.12797815, 0.10301727, 0.12747504,\n",
       "        0.14953865, 0.12370178, 0.07625509, 0.12727386, 0.09822348,\n",
       "        0.0686678 , 0.11362774, 0.09016108, 0.01660429, 0.08490907,\n",
       "        0.12771824, 0.03903311, 0.09208462, 0.15949573, 0.09634272,\n",
       "        0.10628472, 0.12290164, 0.13425015, 0.08285536, 0.11674407,\n",
       "        0.18729746, 0.1867803 , 0.10898627, 0.1416478 , 0.10345802,\n",
       "        0.12646338, 0.1172129 , 0.11214143, 0.1070295 , 0.0741664 ,\n",
       "        0.17253126, 0.08724801, 0.14645717, 0.05573757, 0.08208172,\n",
       "        0.0503188 , 0.17737492, 0.10906506, 0.18926208, 0.16835603,\n",
       "        0.09414809, 0.16956552, 0.12906282, 0.06144928, 0.06756736,\n",
       "        0.11373691, 0.07541731, 0.09674227, 0.10867855, 0.04883484,\n",
       "        0.07216728, 0.18539086, 0.1667628 , 0.14591372, 0.10850892,\n",
       "        0.14477497, 0.0732419 , 0.11179722, 0.17345994, 0.02278442,\n",
       "        0.12817885, 0.06897827, 0.043911  , 0.07590143, 0.11836926,\n",
       "        0.15728949, 0.11459998, 0.14932598, 0.05703537, 0.11836516,\n",
       "        0.10575548, 0.08067494, 0.01918052, 0.16767061, 0.19495166,\n",
       "        0.11822566, 0.06066541, 0.13318765, 0.13037637, 0.11384107,\n",
       "        0.13904003, 0.14448457, 0.17193902, 0.09117099, 0.1317581 ,\n",
       "        0.08055871, 0.11312946, 0.09175248, 0.05656785, 0.09127318,\n",
       "        0.01258095, 0.10542835, 0.06212344, 0.12960136, 0.11010817,\n",
       "        0.05784146, 0.13944593, 0.10074387, 0.09374112, 0.10585914,\n",
       "        0.07831258, 0.10104134, 0.18705007, 0.0365631 , 0.04325442,\n",
       "        0.0730832 , 0.08422096, 0.01820461, 0.09393647, 0.13259138,\n",
       "        0.1761325 , 0.11848173, 0.14773665, 0.05251777, 0.12458656,\n",
       "        0.18704453, 0.04357542, 0.14012104, 0.10124687, 0.04217178,\n",
       "        0.06934534, 0.11968761, 0.10225017, 0.06520625, 0.10457322,\n",
       "        0.08568572, 0.09809809, 0.15756182, 0.05995474, 0.10736112,\n",
       "        0.12843154, 0.10191967, 0.13808493, 0.09967351, 0.11353357,\n",
       "        0.17851418, 0.10557513, 0.1428274 , 0.09226727, 0.1361759 ,\n",
       "        0.10264794, 0.11098613, 0.16213955, 0.06209317, 0.07650679,\n",
       "        0.12802892, 0.05674747, 0.13768613, 0.14479156, 0.15201188,\n",
       "        0.09328445, 0.11410525, 0.14692368, 0.12799532, 0.08056961,\n",
       "        0.12696402, 0.05816585, 0.16005453, 0.11983586, 0.03868393,\n",
       "        0.13128293, 0.13454191, 0.06683178, 0.14082772, 0.11649183,\n",
       "        0.07052648, 0.10307489, 0.09819503, 0.01472559, 0.06499607,\n",
       "        0.03433797, 0.05755364, 0.0482016 , 0.1262735 , 0.13979281,\n",
       "        0.12211382, 0.08959422, 0.07243228, 0.12087902, 0.07483683,\n",
       "        0.10238231, 0.12092432, 0.1566437 , 0.08104677, 0.12279277,\n",
       "        0.1415845 , 0.13535632, 0.14549581, 0.16522726, 0.05382428,\n",
       "        0.17006714, 0.12765365, 0.12310796, 0.05537591, 0.09302661,\n",
       "        0.14119013, 0.03639624, 0.1246905 , 0.17118129, 0.06721783,\n",
       "        0.01895485, 0.14002851, 0.14860285, 0.08292503, 0.12912906,\n",
       "        0.0620812 , 0.0782902 , 0.15087748, 0.18634884, 0.19078495,\n",
       "        0.10206549, 0.00942191, 0.10347531, 0.1586415 , 0.09941701,\n",
       "        0.13716182, 0.0256514 , 0.13459924, 0.10441029, 0.07474061,\n",
       "        0.13645666, 0.08141352, 0.10136368, 0.07195373, 0.09128948,\n",
       "        0.04741861, 0.12996112, 0.10238586, 0.14686065, 0.13896377,\n",
       "        0.09498918, 0.08914871, 0.08485828, 0.12817944, 0.05455505,\n",
       "        0.06977683, 0.10804369, 0.03977697, 0.09809351, 0.09600121,\n",
       "        0.10248192, 0.08803165, 0.17381599, 0.14594278, 0.09921826,\n",
       "        0.10591494, 0.15429795, 0.11170915, 0.11557737, 0.01093822,\n",
       "        0.02424487, 0.08566282, 0.13457624, 0.12136753, 0.13292384,\n",
       "        0.16175541, 0.10861952, 0.08284025, 0.10699578, 0.12210009,\n",
       "        0.19164094, 0.08674392, 0.06843308, 0.080715  , 0.12568083,\n",
       "        0.08296704, 0.02832181, 0.11642447, 0.15072393, 0.07249735,\n",
       "        0.09520496, 0.06667489, 0.0718109 , 0.13511632, 0.07915767,\n",
       "        0.10261282, 0.09357999, 0.09645647, 0.10863891, 0.19348025,\n",
       "        0.20273335, 0.0988225 , 0.111385  , 0.03173885, 0.12710559,\n",
       "        0.06525196, 0.18238479, 0.03979591, 0.12965856, 0.13128576,\n",
       "        0.1580035 , 0.05198276, 0.10659091, 0.13835126, 0.0370995 ,\n",
       "        0.04123555, 0.04398892, 0.1616622 , 0.08891732, 0.14677259,\n",
       "        0.17308242, 0.07198301, 0.0468467 , 0.15502298, 0.09419853,\n",
       "        0.10592327, 0.15088381, 0.06656546, 0.09724086, 0.11670008,\n",
       "        0.14139646, 0.05124076, 0.10350073, 0.12693119, 0.06291363,\n",
       "        0.1056112 , 0.05540967, 0.04207425, 0.09357994, 0.10371875,\n",
       "        0.08275941, 0.12379328, 0.10319409, 0.07070892, 0.09804254,\n",
       "        0.08085496, 0.0792618 , 0.09949059, 0.14836857, 0.14475469,\n",
       "        0.10927074, 0.08546778, 0.08405164, 0.07593372, 0.08296192,\n",
       "        0.04771559, 0.07797366, 0.13318877, 0.07183073, 0.15995059,\n",
       "        0.11830016, 0.06998921, 0.14330973, 0.17331522, 0.1613437 ,\n",
       "        0.17487702, 0.02412471, 0.14195015, 0.16588544, 0.05136985,\n",
       "        0.15392292, 0.15257459, 0.0692145 , 0.03282182, 0.19266168,\n",
       "        0.1674302 , 0.13688746, 0.04237754, 0.1304349 , 0.10031226,\n",
       "        0.07996719, 0.0972345 , 0.11137275, 0.05018442, 0.07358908,\n",
       "        0.11811546, 0.11625967, 0.04248576, 0.11675207, 0.12755176,\n",
       "        0.16668605, 0.13822597, 0.061605  , 0.05715373, 0.15726751,\n",
       "        0.14824119, 0.11320223, 0.03610359, 0.07078107, 0.15337939,\n",
       "        0.111211  , 0.14031132, 0.1022509 , 0.04823835, 0.15270452,\n",
       "        0.11344896, 0.0052283 , 0.14211309, 0.12969488, 0.12833145]),\n",
       " array([0.09470496, 0.16668729, 0.21591693, 0.1848526 , 0.19785055,\n",
       "        0.09071256, 0.10623911, 0.20723156, 0.04081154, 0.06062261,\n",
       "        0.1408831 , 0.07049447, 0.13839677, 0.1883641 , 0.22088624,\n",
       "        0.15170633, 0.23133008, 0.22316961, 0.2071463 , 0.15848184,\n",
       "        0.15801491, 0.11906328, 0.23682056, 0.26649324, 0.27198238,\n",
       "        0.13464408, 0.02969286, 0.20823787, 0.2604275 , 0.21907012,\n",
       "        0.12674922, 0.1001976 , 0.11419032, 0.18657511, 0.13301091,\n",
       "        0.29078777, 0.19191547, 0.19112038, 0.23987692, 0.13862874,\n",
       "        0.23872672, 0.10454204, 0.1945062 , 0.13056823, 0.31349321,\n",
       "        0.27320321, 0.25511422, 0.21888888, 0.22432136, 0.12554707,\n",
       "        0.20769603, 0.10546213, 0.22982954, 0.14199713, 0.26390234,\n",
       "        0.15868691, 0.22891491, 0.1179133 , 0.19251321, 0.03893496,\n",
       "        0.20054371, 0.07652063, 0.17022521, 0.18379018, 0.31701372,\n",
       "        0.09977381, 0.18967535, 0.25471599, 0.23026485, 0.27569692,\n",
       "        0.19156268, 0.16615747, 0.16416538, 0.04269272, 0.24485664,\n",
       "        0.23306145, 0.25965367, 0.12965972, 0.21127794, 0.20281222,\n",
       "        0.12026947, 0.17681959, 0.28923499, 0.157912  , 0.08088712,\n",
       "        0.24724072, 0.16404511, 0.12639821, 0.15736036, 0.04723137,\n",
       "        0.29990135, 0.27731898, 0.02762261, 0.19500318, 0.26046459,\n",
       "        0.25577996, 0.30237574, 0.10584401, 0.19510171, 0.29750076,\n",
       "        0.20595551, 0.25156908, 0.14498693, 0.08939237, 0.13595772,\n",
       "        0.26511312, 0.23899464, 0.15229029, 0.0847323 , 0.24441746,\n",
       "        0.16827914, 0.17729031, 0.20126164, 0.18602495, 0.29690227,\n",
       "        0.15550789, 0.16669975, 0.27531849, 0.11272817, 0.11813554,\n",
       "        0.24631956, 0.0954613 , 0.09636341, 0.15278816, 0.16267547,\n",
       "        0.16132822, 0.12688311, 0.11473526, 0.19307814, 0.0647885 ,\n",
       "        0.21877593, 0.28452447, 0.16163784, 0.07017602, 0.04817681,\n",
       "        0.25024424, 0.23524417, 0.16348104, 0.13515084, 0.04212916,\n",
       "        0.20874172, 0.22991338, 0.14207294, 0.25931395, 0.08981129,\n",
       "        0.19091397, 0.20176845, 0.18422064, 0.17960571, 0.06547505,\n",
       "        0.06359183, 0.26940124, 0.30333768, 0.28471921, 0.24931565,\n",
       "        0.18243894, 0.27967333, 0.21396293, 0.17393037, 0.13286367,\n",
       "        0.19855752, 0.30173954, 0.18307315, 0.06964959, 0.30276355,\n",
       "        0.13348168, 0.14047065, 0.21850319, 0.13038553, 0.15117784,\n",
       "        0.15919837, 0.20211499, 0.21279687, 0.12249618, 0.21543666,\n",
       "        0.09761217, 0.20528031, 0.21697986, 0.17794934, 0.04373406,\n",
       "        0.21735593, 0.08256312, 0.2263    , 0.21727273, 0.23562136,\n",
       "        0.26918791, 0.1572159 , 0.28338273, 0.23963492, 0.08177214,\n",
       "        0.26381348, 0.10527735, 0.1355829 , 0.04278716, 0.1589195 ,\n",
       "        0.09690127, 0.0690406 , 0.28509464, 0.19365595, 0.12463725,\n",
       "        0.21737982, 0.07102883, 0.07223243, 0.25939533, 0.20015253,\n",
       "        0.12495946, 0.1886407 , 0.20666856, 0.22969302, 0.11683131,\n",
       "        0.15218884, 0.21521384, 0.15145693, 0.21249144, 0.21403831,\n",
       "        0.10611424, 0.12728206, 0.15872694, 0.14266023, 0.18481826,\n",
       "        0.24990559, 0.04624133, 0.19343232, 0.20936721, 0.19012423,\n",
       "        0.28669403, 0.31399426, 0.31942525, 0.26378744, 0.21986721,\n",
       "        0.25195139, 0.17811121, 0.03821104, 0.14702875, 0.18992929,\n",
       "        0.25476175, 0.10753607, 0.1095424 , 0.1190509 , 0.32595458,\n",
       "        0.20497146, 0.20282412, 0.10458706, 0.16665138, 0.1543415 ,\n",
       "        0.22276456, 0.20149839, 0.29072839, 0.14339817, 0.32639249,\n",
       "        0.06707717, 0.21800552, 0.15157244, 0.29393065, 0.1889073 ,\n",
       "        0.15253676, 0.19259497, 0.08033451, 0.19233727, 0.11499001,\n",
       "        0.07892825, 0.2811914 , 0.23735578, 0.26993507, 0.16642477,\n",
       "        0.31926237, 0.12119804, 0.2750422 , 0.24550783, 0.2057491 ,\n",
       "        0.08189805, 0.2265118 , 0.29222193, 0.14681733, 0.19951069,\n",
       "        0.10106504, 0.04724218, 0.20276657, 0.15054783, 0.24681159,\n",
       "        0.11703522, 0.19342245, 0.20036308, 0.26162744, 0.26319204,\n",
       "        0.19638131, 0.13799161, 0.15109856, 0.25739113, 0.07664148,\n",
       "        0.26163694, 0.15875403, 0.24900631, 0.1851035 , 0.06380344,\n",
       "        0.12811149, 0.10444868, 0.24710077, 0.08396695, 0.18852443,\n",
       "        0.14510713, 0.16200737, 0.22631744, 0.24516886, 0.2661261 ,\n",
       "        0.18759268, 0.10754185, 0.16090831, 0.24371284, 0.16594744,\n",
       "        0.33663423, 0.09974438, 0.19536371, 0.20551807, 0.12667619,\n",
       "        0.189063  , 0.00871134, 0.08713892, 0.25939783, 0.08241255,\n",
       "        0.11491327, 0.2844071 , 0.204943  , 0.14802732, 0.07790231,\n",
       "        0.17571984, 0.0579875 , 0.13735977, 0.23045389, 0.19935926,\n",
       "        0.12219649, 0.11972323, 0.20414135, 0.28138996, 0.13940249,\n",
       "        0.0611215 , 0.23102913, 0.11521782, 0.12771327, 0.21502514,\n",
       "        0.14429201, 0.23188954, 0.25262027, 0.10733485, 0.20701996,\n",
       "        0.18648021, 0.1931481 , 0.18082506, 0.19188562, 0.12759633,\n",
       "        0.10026965, 0.20369326, 0.13993049, 0.12749743, 0.23501668,\n",
       "        0.12509072, 0.18701525, 0.21322038, 0.29435572, 0.13655217,\n",
       "        0.21881458, 0.32774135, 0.26350211, 0.09155455, 0.27949299,\n",
       "        0.16111984, 0.31045006, 0.04594647, 0.09438688, 0.21090387,\n",
       "        0.12510326, 0.00882519, 0.11333823, 0.08282662, 0.16895362,\n",
       "        0.07453006, 0.18474226, 0.09507244, 0.11979775, 0.26787777,\n",
       "        0.05961066, 0.0807118 , 0.19181216, 0.26705739, 0.13235553,\n",
       "        0.09311573, 0.13088733, 0.29884066, 0.2735118 , 0.29462469,\n",
       "        0.17790807, 0.22927009, 0.02994997, 0.20821148, 0.26992184,\n",
       "        0.17501488, 0.11543219, 0.26984374, 0.16401788, 0.25595959,\n",
       "        0.21833313, 0.1322709 , 0.25115984, 0.1793667 , 0.1158011 ,\n",
       "        0.11492221, 0.15073883, 0.27697167, 0.17107141, 0.2425179 ,\n",
       "        0.18779753, 0.21889514, 0.1753569 , 0.21069551, 0.1285668 ,\n",
       "        0.16249872, 0.11893063, 0.19997258, 0.20227133, 0.21079125,\n",
       "        0.19790094, 0.11704797, 0.06835519, 0.22593871, 0.22971408,\n",
       "        0.22963296, 0.24688968, 0.15770136, 0.20706586, 0.02742555,\n",
       "        0.23816069, 0.2933454 , 0.10727941, 0.13815723, 0.0503784 ,\n",
       "        0.13185721, 0.20498061, 0.07616311, 0.31816868, 0.20324514,\n",
       "        0.08334916, 0.10604037, 0.20812367, 0.17874127, 0.10847207,\n",
       "        0.23065106, 0.23813589, 0.15347357, 0.22640242, 0.24497053,\n",
       "        0.08017223, 0.23845369, 0.20843753, 0.15815339, 0.16483924,\n",
       "        0.31342987, 0.15110066, 0.17829899, 0.16557137, 0.2506285 ,\n",
       "        0.1052676 , 0.18791349, 0.12452213, 0.17602706, 0.23497562,\n",
       "        0.19345249, 0.17271056, 0.23606746, 0.13973158, 0.09386908,\n",
       "        0.1844415 , 0.23690162, 0.15331299, 0.16096877, 0.12666787,\n",
       "        0.13752808, 0.21234058, 0.22145821, 0.04109056, 0.19774725,\n",
       "        0.25505351, 0.25002541, 0.17325418, 0.07135866, 0.1935096 ,\n",
       "        0.0606543 , 0.23278522, 0.23863206, 0.22697085, 0.08156346,\n",
       "        0.09892114, 0.16514814, 0.13381006, 0.20713457, 0.10583988,\n",
       "        0.1276693 , 0.0926552 , 0.18723261, 0.06666613, 0.18462332,\n",
       "        0.11002462, 0.14448943, 0.17634199, 0.21195871, 0.17491328,\n",
       "        0.18917154, 0.16045139, 0.05442038, 0.18201018, 0.19485274,\n",
       "        0.27788517, 0.2001725 , 0.26087966, 0.23249765, 0.24673221,\n",
       "        0.2161925 , 0.20058225, 0.19442756, 0.14309259, 0.18093701,\n",
       "        0.28797573, 0.2863292 , 0.22746708, 0.13058634, 0.0796892 ,\n",
       "        0.20063845, 0.21207446, 0.26880955, 0.19591771, 0.18693069,\n",
       "        0.16952613, 0.09176109, 0.13042708, 0.26555549, 0.17283538,\n",
       "        0.29605632, 0.21649292, 0.13429295, 0.21791806, 0.14960769,\n",
       "        0.24626645, 0.27463687, 0.16651299, 0.22976165, 0.18429134,\n",
       "        0.24827038, 0.28328872, 0.1637653 , 0.16852082, 0.11071476,\n",
       "        0.07769634, 0.13573115, 0.11260237, 0.26663561, 0.18011537,\n",
       "        0.06252159, 0.11787965, 0.32853888, 0.19711364, 0.04272554,\n",
       "        0.0949529 , 0.21886696, 0.16582742, 0.1102669 , 0.21035474,\n",
       "        0.1099551 , 0.12141725, 0.12620306, 0.14981991, 0.24659898,\n",
       "        0.09527287, 0.06935751, 0.14723133, 0.22385028, 0.17823602,\n",
       "        0.14260556, 0.05052188, 0.12421917, 0.1677551 , 0.2144258 ,\n",
       "        0.12738195, 0.18722532, 0.13139059, 0.29267068, 0.19508224,\n",
       "        0.10753228, 0.13408843, 0.2239622 , 0.1514286 , 0.11923676,\n",
       "        0.2077533 , 0.28523404, 0.26682565, 0.18763111, 0.10934481,\n",
       "        0.19892684, 0.14469661, 0.19513127, 0.25580816, 0.19189321,\n",
       "        0.15784063, 0.26214638, 0.21218529, 0.30190012, 0.01111203,\n",
       "        0.23119497, 0.05621925, 0.2113578 , 0.1721997 , 0.20676235,\n",
       "        0.24419881, 0.20164359, 0.12779869, 0.20759867, 0.16120502,\n",
       "        0.13883666, 0.18799531, 0.14833845, 0.03070885, 0.1386728 ,\n",
       "        0.20967585, 0.06367489, 0.15038335, 0.26001968, 0.15631015,\n",
       "        0.17475731, 0.20505648, 0.21851257, 0.1349449 , 0.19035971,\n",
       "        0.30742502, 0.30505278, 0.18304828, 0.24270153, 0.17213505,\n",
       "        0.22533324, 0.20122977, 0.20415672, 0.20716427, 0.12274671,\n",
       "        0.28000836, 0.14211078, 0.23756415, 0.10205867, 0.13627   ,\n",
       "        0.08448999, 0.29320528, 0.17729435, 0.30818449, 0.27767424,\n",
       "        0.15572191, 0.27527221, 0.21026403, 0.10176131, 0.113327  ,\n",
       "        0.20197022, 0.1247645 , 0.16430461, 0.19018845, 0.07921822,\n",
       "        0.12057116, 0.30457256, 0.28088752, 0.24035295, 0.19285585,\n",
       "        0.23481425, 0.1216731 , 0.21191185, 0.28707192, 0.03732087,\n",
       "        0.21133384, 0.1119854 , 0.07378593, 0.12331453, 0.19599535,\n",
       "        0.26059265, 0.1948977 , 0.24221256, 0.09871081, 0.2028914 ,\n",
       "        0.18206084, 0.13177201, 0.03215155, 0.27936361, 0.32140681,\n",
       "        0.19543514, 0.10326656, 0.22615605, 0.214122  , 0.18625978,\n",
       "        0.22601691, 0.23488742, 0.28631447, 0.16454811, 0.23075062,\n",
       "        0.1541617 , 0.19958858, 0.18107843, 0.11497803, 0.1488232 ,\n",
       "        0.02063296, 0.20287548, 0.11009028, 0.21046243, 0.18485832,\n",
       "        0.09394648, 0.23561902, 0.16385423, 0.15703245, 0.17275217,\n",
       "        0.13918676, 0.16457054, 0.30924202, 0.06008041, 0.08347766,\n",
       "        0.12461372, 0.14247254, 0.03026234, 0.15872146, 0.21592187,\n",
       "        0.28609715, 0.19254392, 0.24101141, 0.08621065, 0.20225359,\n",
       "        0.30414437, 0.07523082, 0.23007562, 0.16423364, 0.07894957,\n",
       "        0.12368397, 0.21765597, 0.16775338, 0.1152474 , 0.17733688,\n",
       "        0.17131273, 0.16563656, 0.25570932, 0.10366057, 0.18212799,\n",
       "        0.2136793 , 0.1686148 , 0.2246612 , 0.16278858, 0.18773672,\n",
       "        0.29296597, 0.20276926, 0.23168035, 0.15557017, 0.22544846,\n",
       "        0.17888003, 0.18001009, 0.26561826, 0.10924939, 0.12601106,\n",
       "        0.20883664, 0.09213301, 0.22339847, 0.23636996, 0.24690393,\n",
       "        0.16787987, 0.19340921, 0.23908984, 0.21183062, 0.13115491,\n",
       "        0.20731844, 0.09464413, 0.26641124, 0.22075369, 0.07717026,\n",
       "        0.2187763 , 0.21821891, 0.12791698, 0.22840825, 0.19106561,\n",
       "        0.11564741, 0.17322496, 0.16770984, 0.02414195, 0.11253182,\n",
       "        0.05738305, 0.1025291 , 0.08670966, 0.20611171, 0.23027136,\n",
       "        0.20386122, 0.15194368, 0.1481305 , 0.19852655, 0.12147271,\n",
       "        0.17315076, 0.19724634, 0.25483111, 0.13516679, 0.20625762,\n",
       "        0.23987262, 0.22013786, 0.23719117, 0.26804514, 0.09148769,\n",
       "        0.27667396, 0.21319842, 0.2065463 , 0.09104272, 0.15593724,\n",
       "        0.23047526, 0.06339973, 0.22450556, 0.27786532, 0.13782611,\n",
       "        0.03096994, 0.22794533, 0.24318347, 0.13630235, 0.22842046,\n",
       "        0.10724891, 0.13360915, 0.25690618, 0.30528632, 0.31128215,\n",
       "        0.17499259, 0.01637109, 0.17083613, 0.25745856, 0.16143975,\n",
       "        0.22527711, 0.04575139, 0.21932571, 0.18690709, 0.14560203,\n",
       "        0.22466686, 0.15881975, 0.16706175, 0.13679742, 0.14901822,\n",
       "        0.07693663, 0.21083748, 0.17803212, 0.23899775, 0.22591683,\n",
       "        0.16221418, 0.14637009, 0.16301817, 0.21184876, 0.1059347 ,\n",
       "        0.11329616, 0.19115979, 0.06454056, 0.16119277, 0.16245176,\n",
       "        0.18660373, 0.14638152, 0.28927769, 0.23679264, 0.17895651,\n",
       "        0.17191379, 0.25026953, 0.18806622, 0.19666401, 0.01957029,\n",
       "        0.03991968, 0.139366  , 0.22391441, 0.20102811, 0.21654289,\n",
       "        0.26791595, 0.17753621, 0.14212581, 0.20840862, 0.19862417,\n",
       "        0.31398686, 0.1416235 , 0.1304145 , 0.16256933, 0.21417742,\n",
       "        0.14787484, 0.04758987, 0.19959363, 0.25535002, 0.11904833,\n",
       "        0.1829435 , 0.1144645 , 0.11648545, 0.23423563, 0.14390028,\n",
       "        0.17495158, 0.18046184, 0.18650205, 0.20026994, 0.31542438,\n",
       "        0.33109857, 0.19209159, 0.20634643, 0.06259085, 0.22838149,\n",
       "        0.12893795, 0.29818094, 0.0652383 , 0.21040752, 0.21780065,\n",
       "        0.26606312, 0.08833846, 0.18629821, 0.22825899, 0.06058656,\n",
       "        0.08442379, 0.07154032, 0.26413518, 0.1773734 , 0.2380506 ,\n",
       "        0.28125783, 0.12168467, 0.0761046 , 0.26345717, 0.15377469,\n",
       "        0.17359101, 0.24582428, 0.12650469, 0.17157534, 0.18944103,\n",
       "        0.22947584, 0.08813887, 0.19695   , 0.20611142, 0.10989749,\n",
       "        0.20009149, 0.10135856, 0.07000683, 0.15615617, 0.1747634 ,\n",
       "        0.15929779, 0.20126861, 0.16819732, 0.12799576, 0.1610906 ,\n",
       "        0.136902  , 0.14538817, 0.16345464, 0.25256158, 0.23482253,\n",
       "        0.19621543, 0.140756  , 0.13633051, 0.14509934, 0.13542272,\n",
       "        0.07745636, 0.13707303, 0.22149931, 0.11719326, 0.26083577,\n",
       "        0.20320446, 0.11890555, 0.23767559, 0.2877637 , 0.26223988,\n",
       "        0.28690581, 0.03917602, 0.23948393, 0.27393744, 0.08616527,\n",
       "        0.25962297, 0.25235429, 0.11702133, 0.06390253, 0.31763584,\n",
       "        0.27479386, 0.22380972, 0.07296087, 0.21757978, 0.18564369,\n",
       "        0.12991665, 0.16116831, 0.19663656, 0.08625056, 0.12494367,\n",
       "        0.20158374, 0.20161438, 0.0695161 , 0.18936694, 0.20991118,\n",
       "        0.27416052, 0.22937237, 0.10567002, 0.10455387, 0.25709292,\n",
       "        0.24202577, 0.18661819, 0.06124455, 0.11513337, 0.24877678,\n",
       "        0.19269296, 0.22940147, 0.16629785, 0.07837247, 0.24782856,\n",
       "        0.20119555, 0.00961218, 0.24589738, 0.21606255, 0.20973044]))"
      ]
     },
     "execution_count": 21,
     "metadata": {},
     "output_type": "execute_result"
    }
   ],
   "source": [
    "pfolio_returns = []\n",
    "pfolio_volatilities = []\n",
    "for x in range (1000):\n",
    "    weights = np.random.random(num_assets)\n",
    "    weights / np.sum(weights)\n",
    "    pfolio_returns.append(np.sum(weights * log_returns.mean())* 250)\n",
    "    pfolio_volatilities.append(np.sqrt(np.dot(weights.T, np.dot(log_returns.cov()* 250, weights))))\n",
    "    \n",
    "pfolio_returns = np.array(pfolio_returns)\n",
    "pfolio_volatilities = np.array(pfolio_volatilities)\n",
    "\n",
    "pfolio_returns,pfolio_volatilities"
   ]
  },
  {
   "cell_type": "code",
   "execution_count": 22,
   "id": "2b368bd6-3545-4ac7-ae67-08f3fa46ab3e",
   "metadata": {},
   "outputs": [],
   "source": [
    "portfolios = pd.DataFrame({'Return': pfolio_returns, 'Volatility': pfolio_volatilities})\n"
   ]
  },
  {
   "cell_type": "code",
   "execution_count": 23,
   "id": "462a3d11-7d7c-477f-ac56-7199bb5cfdce",
   "metadata": {},
   "outputs": [
    {
     "data": {
      "text/html": [
       "<div>\n",
       "<style scoped>\n",
       "    .dataframe tbody tr th:only-of-type {\n",
       "        vertical-align: middle;\n",
       "    }\n",
       "\n",
       "    .dataframe tbody tr th {\n",
       "        vertical-align: top;\n",
       "    }\n",
       "\n",
       "    .dataframe thead th {\n",
       "        text-align: right;\n",
       "    }\n",
       "</style>\n",
       "<table border=\"1\" class=\"dataframe\">\n",
       "  <thead>\n",
       "    <tr style=\"text-align: right;\">\n",
       "      <th></th>\n",
       "      <th>Return</th>\n",
       "      <th>Volatility</th>\n",
       "    </tr>\n",
       "  </thead>\n",
       "  <tbody>\n",
       "    <tr>\n",
       "      <th>0</th>\n",
       "      <td>0.055918</td>\n",
       "      <td>0.094705</td>\n",
       "    </tr>\n",
       "    <tr>\n",
       "      <th>1</th>\n",
       "      <td>0.099727</td>\n",
       "      <td>0.166687</td>\n",
       "    </tr>\n",
       "    <tr>\n",
       "      <th>2</th>\n",
       "      <td>0.133102</td>\n",
       "      <td>0.215917</td>\n",
       "    </tr>\n",
       "    <tr>\n",
       "      <th>3</th>\n",
       "      <td>0.113972</td>\n",
       "      <td>0.184853</td>\n",
       "    </tr>\n",
       "    <tr>\n",
       "      <th>4</th>\n",
       "      <td>0.119820</td>\n",
       "      <td>0.197851</td>\n",
       "    </tr>\n",
       "  </tbody>\n",
       "</table>\n",
       "</div>"
      ],
      "text/plain": [
       "     Return  Volatility\n",
       "0  0.055918    0.094705\n",
       "1  0.099727    0.166687\n",
       "2  0.133102    0.215917\n",
       "3  0.113972    0.184853\n",
       "4  0.119820    0.197851"
      ]
     },
     "execution_count": 23,
     "metadata": {},
     "output_type": "execute_result"
    }
   ],
   "source": [
    "portfolios.head()"
   ]
  },
  {
   "cell_type": "code",
   "execution_count": 24,
   "id": "25d4b6e0-f6d1-419e-bf66-e218caeb78d6",
   "metadata": {},
   "outputs": [
    {
     "data": {
      "text/html": [
       "<div>\n",
       "<style scoped>\n",
       "    .dataframe tbody tr th:only-of-type {\n",
       "        vertical-align: middle;\n",
       "    }\n",
       "\n",
       "    .dataframe tbody tr th {\n",
       "        vertical-align: top;\n",
       "    }\n",
       "\n",
       "    .dataframe thead th {\n",
       "        text-align: right;\n",
       "    }\n",
       "</style>\n",
       "<table border=\"1\" class=\"dataframe\">\n",
       "  <thead>\n",
       "    <tr style=\"text-align: right;\">\n",
       "      <th></th>\n",
       "      <th>Return</th>\n",
       "      <th>Volatility</th>\n",
       "    </tr>\n",
       "  </thead>\n",
       "  <tbody>\n",
       "    <tr>\n",
       "      <th>995</th>\n",
       "      <td>0.113449</td>\n",
       "      <td>0.201196</td>\n",
       "    </tr>\n",
       "    <tr>\n",
       "      <th>996</th>\n",
       "      <td>0.005228</td>\n",
       "      <td>0.009612</td>\n",
       "    </tr>\n",
       "    <tr>\n",
       "      <th>997</th>\n",
       "      <td>0.142113</td>\n",
       "      <td>0.245897</td>\n",
       "    </tr>\n",
       "    <tr>\n",
       "      <th>998</th>\n",
       "      <td>0.129695</td>\n",
       "      <td>0.216063</td>\n",
       "    </tr>\n",
       "    <tr>\n",
       "      <th>999</th>\n",
       "      <td>0.128331</td>\n",
       "      <td>0.209730</td>\n",
       "    </tr>\n",
       "  </tbody>\n",
       "</table>\n",
       "</div>"
      ],
      "text/plain": [
       "       Return  Volatility\n",
       "995  0.113449    0.201196\n",
       "996  0.005228    0.009612\n",
       "997  0.142113    0.245897\n",
       "998  0.129695    0.216063\n",
       "999  0.128331    0.209730"
      ]
     },
     "execution_count": 24,
     "metadata": {},
     "output_type": "execute_result"
    }
   ],
   "source": [
    "portfolios.tail()"
   ]
  },
  {
   "cell_type": "code",
   "execution_count": 25,
   "id": "673842f1-e0fa-47af-ae63-f4ceb53c40bd",
   "metadata": {},
   "outputs": [
    {
     "data": {
      "image/png": "[encoded data removed]",
      "text/plain": [
       "<Figure size 1000x600 with 1 Axes>"
      ]
     },
     "metadata": {},
     "output_type": "display_data"
    }
   ],
   "source": [
    "\n",
    "portfolios.plot(x='Volatility', y='Return', kind='scatter', figsize=(10, 6),color = 'pink');\n",
    "plt.xlabel('Expected Volatility')\n",
    "plt.ylabel('Expected Return')\n",
    "plt.show()"
   ]
  },
  {
   "cell_type": "code",
   "execution_count": 26,
   "id": "35ff6641-f661-499a-8631-004d35ec7253",
   "metadata": {},
   "outputs": [
    {
     "name": "stdout",
     "output_type": "stream",
     "text": [
      "Requirement already satisfied: streamlit in c:\\users\\acer\\appdata\\local\\programs\\python\\python311\\lib\\site-packages (1.49.1)\n",
      "Requirement already satisfied: altair!=5.4.0,!=5.4.1,<6,>=4.0 in c:\\users\\acer\\appdata\\local\\programs\\python\\python311\\lib\\site-packages (from streamlit) (5.5.0)\n",
      "Requirement already satisfied: blinker<2,>=1.5.0 in c:\\users\\acer\\appdata\\local\\programs\\python\\python311\\lib\\site-packages (from streamlit) (1.9.0)\n",
      "Requirement already satisfied: cachetools<7,>=4.0 in c:\\users\\acer\\appdata\\local\\programs\\python\\python311\\lib\\site-packages (from streamlit) (6.2.0)\n",
      "Requirement already satisfied: click<9,>=7.0 in c:\\users\\acer\\appdata\\local\\programs\\python\\python311\\lib\\site-packages (from streamlit) (8.2.1)\n",
      "Requirement already satisfied: numpy<3,>=1.23 in c:\\users\\acer\\appdata\\local\\programs\\python\\python311\\lib\\site-packages (from streamlit) (2.3.0)\n",
      "Requirement already satisfied: packaging<26,>=20 in c:\\users\\acer\\appdata\\local\\programs\\python\\python311\\lib\\site-packages (from streamlit) (25.0)\n",
      "Requirement already satisfied: pandas<3,>=1.4.0 in c:\\users\\acer\\appdata\\local\\programs\\python\\python311\\lib\\site-packages (from streamlit) (2.3.1)\n",
      "Requirement already satisfied: pillow<12,>=7.1.0 in c:\\users\\acer\\appdata\\local\\programs\\python\\python311\\lib\\site-packages (from streamlit) (11.2.1)\n",
      "Requirement already satisfied: protobuf<7,>=3.20 in c:\\users\\acer\\appdata\\local\\programs\\python\\python311\\lib\\site-packages (from streamlit) (6.31.1)\n",
      "Requirement already satisfied: pyarrow>=7.0 in c:\\users\\acer\\appdata\\local\\programs\\python\\python311\\lib\\site-packages (from streamlit) (21.0.0)\n",
      "Requirement already satisfied: requests<3,>=2.27 in c:\\users\\acer\\appdata\\local\\programs\\python\\python311\\lib\\site-packages (from streamlit) (2.32.4)\n",
      "Requirement already satisfied: tenacity<10,>=8.1.0 in c:\\users\\acer\\appdata\\local\\programs\\python\\python311\\lib\\site-packages (from streamlit) (9.1.2)\n",
      "Requirement already satisfied: toml<2,>=0.10.1 in c:\\users\\acer\\appdata\\local\\programs\\python\\python311\\lib\\site-packages (from streamlit) (0.10.2)\n",
      "Requirement already satisfied: typing-extensions<5,>=4.4.0 in c:\\users\\acer\\appdata\\local\\programs\\python\\python311\\lib\\site-packages (from streamlit) (4.14.0)\n",
      "Requirement already satisfied: watchdog<7,>=2.1.5 in c:\\users\\acer\\appdata\\local\\programs\\python\\python311\\lib\\site-packages (from streamlit) (6.0.0)\n",
      "Requirement already satisfied: gitpython!=3.1.19,<4,>=3.0.7 in c:\\users\\acer\\appdata\\local\\programs\\python\\python311\\lib\\site-packages (from streamlit) (3.1.45)\n",
      "Requirement already satisfied: pydeck<1,>=0.8.0b4 in c:\\users\\acer\\appdata\\local\\programs\\python\\python311\\lib\\site-packages (from streamlit) (0.9.1)\n",
      "Requirement already satisfied: tornado!=6.5.0,<7,>=6.0.3 in c:\\users\\acer\\appdata\\local\\programs\\python\\python311\\lib\\site-packages (from streamlit) (6.5.2)\n",
      "Requirement already satisfied: jinja2 in c:\\users\\acer\\appdata\\local\\programs\\python\\python311\\lib\\site-packages (from altair!=5.4.0,!=5.4.1,<6,>=4.0->streamlit) (3.1.6)\n",
      "Requirement already satisfied: jsonschema>=3.0 in c:\\users\\acer\\appdata\\local\\programs\\python\\python311\\lib\\site-packages (from altair!=5.4.0,!=5.4.1,<6,>=4.0->streamlit) (4.25.1)\n",
      "Requirement already satisfied: narwhals>=1.14.2 in c:\\users\\acer\\appdata\\local\\programs\\python\\python311\\lib\\site-packages (from altair!=5.4.0,!=5.4.1,<6,>=4.0->streamlit) (2.3.0)\n",
      "Requirement already satisfied: colorama in c:\\users\\acer\\appdata\\local\\programs\\python\\python311\\lib\\site-packages (from click<9,>=7.0->streamlit) (0.4.6)\n",
      "Requirement already satisfied: gitdb<5,>=4.0.1 in c:\\users\\acer\\appdata\\local\\programs\\python\\python311\\lib\\site-packages (from gitpython!=3.1.19,<4,>=3.0.7->streamlit) (4.0.12)\n",
      "Requirement already satisfied: smmap<6,>=3.0.1 in c:\\users\\acer\\appdata\\local\\programs\\python\\python311\\lib\\site-packages (from gitdb<5,>=4.0.1->gitpython!=3.1.19,<4,>=3.0.7->streamlit) (5.0.2)\n",
      "Requirement already satisfied: python-dateutil>=2.8.2 in c:\\users\\acer\\appdata\\local\\programs\\python\\python311\\lib\\site-packages (from pandas<3,>=1.4.0->streamlit) (2.9.0.post0)\n",
      "Requirement already satisfied: pytz>=2020.1 in c:\\users\\acer\\appdata\\local\\programs\\python\\python311\\lib\\site-packages (from pandas<3,>=1.4.0->streamlit) (2025.2)\n",
      "Requirement already satisfied: tzdata>=2022.7 in c:\\users\\acer\\appdata\\local\\programs\\python\\python311\\lib\\site-packages (from pandas<3,>=1.4.0->streamlit) (2025.2)\n",
      "Requirement already satisfied: charset_normalizer<4,>=2 in c:\\users\\acer\\appdata\\local\\programs\\python\\python311\\lib\\site-packages (from requests<3,>=2.27->streamlit) (3.4.2)\n",
      "Requirement already satisfied: idna<4,>=2.5 in c:\\users\\acer\\appdata\\local\\programs\\python\\python311\\lib\\site-packages (from requests<3,>=2.27->streamlit) (3.10)\n",
      "Requirement already satisfied: urllib3<3,>=1.21.1 in c:\\users\\acer\\appdata\\local\\programs\\python\\python311\\lib\\site-packages (from requests<3,>=2.27->streamlit) (2.5.0)\n",
      "Requirement already satisfied: certifi>=2017.4.17 in c:\\users\\acer\\appdata\\local\\programs\\python\\python311\\lib\\site-packages (from requests<3,>=2.27->streamlit) (2025.4.26)\n",
      "Requirement already satisfied: MarkupSafe>=2.0 in c:\\users\\acer\\appdata\\local\\programs\\python\\python311\\lib\\site-packages (from jinja2->altair!=5.4.0,!=5.4.1,<6,>=4.0->streamlit) (3.0.2)\n",
      "Requirement already satisfied: attrs>=22.2.0 in c:\\users\\acer\\appdata\\local\\programs\\python\\python311\\lib\\site-packages (from jsonschema>=3.0->altair!=5.4.0,!=5.4.1,<6,>=4.0->streamlit) (25.3.0)\n",
      "Requirement already satisfied: jsonschema-specifications>=2023.03.6 in c:\\users\\acer\\appdata\\local\\programs\\python\\python311\\lib\\site-packages (from jsonschema>=3.0->altair!=5.4.0,!=5.4.1,<6,>=4.0->streamlit) (2025.4.1)\n",
      "Requirement already satisfied: referencing>=0.28.4 in c:\\users\\acer\\appdata\\local\\programs\\python\\python311\\lib\\site-packages (from jsonschema>=3.0->altair!=5.4.0,!=5.4.1,<6,>=4.0->streamlit) (0.36.2)\n",
      "Requirement already satisfied: rpds-py>=0.7.1 in c:\\users\\acer\\appdata\\local\\programs\\python\\python311\\lib\\site-packages (from jsonschema>=3.0->altair!=5.4.0,!=5.4.1,<6,>=4.0->streamlit) (0.27.1)\n",
      "Requirement already satisfied: six>=1.5 in c:\\users\\acer\\appdata\\local\\programs\\python\\python311\\lib\\site-packages (from python-dateutil>=2.8.2->pandas<3,>=1.4.0->streamlit) (1.17.0)\n",
      "Note: you may need to restart the kernel to use updated packages.\n"
     ]
    }
   ],
   "source": [
    "pip install streamlit"
   ]
  },
  {
   "cell_type": "code",
   "execution_count": 27,
   "id": "0a59761c-dafc-4766-855b-73841263e608",
   "metadata": {},
   "outputs": [
    {
     "name": "stderr",
     "output_type": "stream",
     "text": [
      "2025-09-03 20:30:24.859 WARNING streamlit.runtime.scriptrunner_utils.script_run_context: Thread 'MainThread': missing ScriptRunContext! This warning can be ignored when running in bare mode.\n",
      "2025-09-03 20:30:25.064 \n",
      "  \u001b[33m\u001b[1mWarning:\u001b[0m to view this Streamlit app on a browser, run it with the following\n",
      "  command:\n",
      "\n",
      "    streamlit run C:\\Users\\Acer\\AppData\\Roaming\\Python\\Python311\\site-packages\\ipykernel_launcher.py [ARGUMENTS]\n",
      "2025-09-03 20:30:25.065 Thread 'MainThread': missing ScriptRunContext! This warning can be ignored when running in bare mode.\n",
      "2025-09-03 20:30:25.065 Thread 'MainThread': missing ScriptRunContext! This warning can be ignored when running in bare mode.\n",
      "[*********************100%***********************]  2 of 2 completed\n",
      "2025-09-03 20:30:26.123 Thread 'MainThread': missing ScriptRunContext! This warning can be ignored when running in bare mode.\n",
      "2025-09-03 20:30:26.124 Thread 'MainThread': missing ScriptRunContext! This warning can be ignored when running in bare mode.\n",
      "2025-09-03 20:30:26.124 Thread 'MainThread': missing ScriptRunContext! This warning can be ignored when running in bare mode.\n",
      "2025-09-03 20:30:26.897 Thread 'MainThread': missing ScriptRunContext! This warning can be ignored when running in bare mode.\n",
      "2025-09-03 20:30:26.899 Thread 'MainThread': missing ScriptRunContext! This warning can be ignored when running in bare mode.\n",
      "2025-09-03 20:30:26.899 Thread 'MainThread': missing ScriptRunContext! This warning can be ignored when running in bare mode.\n",
      "2025-09-03 20:30:26.928 Thread 'MainThread': missing ScriptRunContext! This warning can be ignored when running in bare mode.\n",
      "2025-09-03 20:30:26.930 Thread 'MainThread': missing ScriptRunContext! This warning can be ignored when running in bare mode.\n",
      "2025-09-03 20:30:26.930 Thread 'MainThread': missing ScriptRunContext! This warning can be ignored when running in bare mode.\n",
      "2025-09-03 20:30:27.021 Thread 'MainThread': missing ScriptRunContext! This warning can be ignored when running in bare mode.\n",
      "2025-09-03 20:30:27.160 Thread 'MainThread': missing ScriptRunContext! This warning can be ignored when running in bare mode.\n",
      "2025-09-03 20:30:27.161 Thread 'MainThread': missing ScriptRunContext! This warning can be ignored when running in bare mode.\n",
      "2025-09-03 20:30:27.162 Thread 'MainThread': missing ScriptRunContext! This warning can be ignored when running in bare mode.\n"
     ]
    },
    {
     "data": {
      "text/plain": [
       "DeltaGenerator()"
      ]
     },
     "execution_count": 27,
     "metadata": {},
     "output_type": "execute_result"
    },
    {
     "data": {
      "image/png": "[encoded data removed]",
      "text/plain": [
       "<Figure size 640x480 with 2 Axes>"
      ]
     },
     "metadata": {},
     "output_type": "display_data"
    }
   ],
   "source": [
    "import streamlit as st\n",
    "import matplotlib.pyplot as plt\n",
    "import pandas as pd\n",
    "import numpy as np\n",
    "import yfinance as yf\n",
    "\n",
    "st.title(\"📊 Markowitz Portfolio Optimization Dashboard\")\n",
    "\n",
    "# Assets\n",
    "assets = [\"PG\", \"^GSPC\"]\n",
    "\n",
    "# Download data (option A: adjusted prices via Close)\n",
    "pf_data = yf.download(assets, start=\"2018-01-01\", auto_adjust=True)\n",
    "adj_close = pf_data[\"Close\"]\n",
    "\n",
    "# Normalize (rebased to 100)\n",
    "normalized = adj_close / adj_close.iloc[0] * 100\n",
    "\n",
    "st.subheader(\"📈 Normalized Price Performance\")\n",
    "st.line_chart(normalized)\n",
    "\n",
    "# ---- Efficient Frontier Example ----\n",
    "# Dummy portfolios for illustration (replace with real ones later)\n",
    "portfolios = pd.DataFrame({\n",
    "    \"Volatility\": np.random.rand(100),\n",
    "    \"Return\": np.random.rand(100),\n",
    "    \"Sharpe\": np.random.rand(100)\n",
    "})\n",
    "\n",
    "st.subheader(\"⚡ Efficient Frontier\")\n",
    "fig, ax = plt.subplots()\n",
    "scatter = ax.scatter(\n",
    "    portfolios['Volatility'], portfolios['Return'],\n",
    "    c=portfolios['Sharpe'], cmap='viridis'\n",
    ")\n",
    "ax.set_xlabel(\"Volatility\")\n",
    "ax.set_ylabel(\"Return\")\n",
    "fig.colorbar(scatter, label=\"Sharpe Ratio\")\n",
    "st.pyplot(fig)\n"
   ]
  }
 ],
 "metadata": {
  "kernelspec": {
   "display_name": "Python 3",
   "language": "python",
   "name": "python3"
  },
  "language_info": {
   "codemirror_mode": {
    "name": "ipython",
    "version": 3
   },
   "file_extension": ".py",
   "mimetype": "text/x-python",
   "name": "python",
   "nbconvert_exporter": "python",
   "pygments_lexer": "ipython3",
   "version": "3.11.9"
  }
 },
 "nbformat": 4,
 "nbformat_minor": 5
}
